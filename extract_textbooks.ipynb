{
 "cells": [
  {
   "cell_type": "code",
   "execution_count": null,
   "metadata": {},
   "outputs": [],
   "source": [
    "import glob\n",
    "import re\n",
    "import extract_textbooks\n",
    "import json\n",
    "import matplotlib.pyplot as plt"
   ]
  },
  {
   "cell_type": "code",
   "execution_count": null,
   "metadata": {},
   "outputs": [],
   "source": [
    "# Parse the books into individual .txt files\n",
    "extract_textbooks.process_textbooks_multiprocess('astro_textbooks/')\n",
    "extract_textbooks.process_textbooks_multiprocess('physics_textbooks/')"
   ]
  },
  {
   "cell_type": "code",
   "execution_count": null,
   "metadata": {},
   "outputs": [],
   "source": [
    "# Preprocess, to get a list of books, where each book is a list of paragraphs\n",
    "book_paths = glob.glob('textbooks_extracted/*.txt')\n",
    "books_paragraphs = [extract_textbooks.preprocess_text(file_path) for file_path in book_paths]"
   ]
  },
  {
   "cell_type": "code",
   "execution_count": null,
   "metadata": {},
   "outputs": [],
   "source": [
    "# Mark each paragraph as good or bad based on whether the rate of certain\n",
    "# characters is within the distribution\n",
    "%matplotlib widget\n",
    "extract_textbooks.histogram_percentages(books_paragraphs)"
   ]
  },
  {
   "cell_type": "code",
   "execution_count": null,
   "metadata": {},
   "outputs": [],
   "source": [
    "bounds = {\n",
    "    'spaces': (6, 24),\n",
    "    'digits': (0, 15),\n",
    "    'capital_letters': (1, 23),\n",
    "    'lowercase_letters': (50, 95),\n",
    "    'newlines': (0, 5),\n",
    "    'backslashes': (0, 5),\n",
    "    'periods': (0, 8),\n",
    "    'exclamation_marks': (0, 5),\n",
    "    'question_marks': (0, 6)\n",
    "}\n",
    "\n",
    "# Filter the textbooks\n",
    "filtered_books_paragraphs = extract_textbooks.filter_textbooks(books_paragraphs, bounds)"
   ]
  },
  {
   "cell_type": "code",
   "execution_count": null,
   "metadata": {},
   "outputs": [],
   "source": [
    "# save the dataset in JSONL\n",
    "with open('textbooks.jsonl', 'w', encoding='utf-8') as file:\n",
    "    for book in filtered_books_paragraphs:\n",
    "        for para in book:\n",
    "            file.write(json.dumps({'text': para}) + '\\n')\n"
   ]
  }
 ],
 "metadata": {
  "kernelspec": {
   "display_name": "Python 3 (ipykernel)",
   "language": "python",
   "name": "python3"
  },
  "language_info": {
   "codemirror_mode": {
    "name": "ipython",
    "version": 3
   },
   "file_extension": ".py",
   "mimetype": "text/x-python",
   "name": "python",
   "nbconvert_exporter": "python",
   "pygments_lexer": "ipython3",
   "version": "3.10.12"
  }
 },
 "nbformat": 4,
 "nbformat_minor": 2
}
