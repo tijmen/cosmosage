{
 "cells": [
  {
   "cell_type": "markdown",
   "metadata": {},
   "source": [
    "# RAG Inference\n",
    "\n",
    "This notebook follows `rag_create_index.ipynb` where we set up a RAG index. Here we actually use that index to interact with RAG-enabled cosmosage."
   ]
  },
  {
   "cell_type": "code",
   "execution_count": 1,
   "metadata": {},
   "outputs": [],
   "source": [
    "# load model, tokenizer, retriever\n",
    "from langchain.vectorstores import FAISS\n",
    "from langchain.embeddings import HuggingFaceEmbeddings\n",
    "import torch\n",
    "from auto_gptq import AutoGPTQForCausalLM\n",
    "from transformers import AutoTokenizer, AutoModelForCausalLM\n",
    "\n",
    "model_dir = \"models/cosmosage_v2/\"\n",
    "#model = AutoGPTQForCausalLM.from_quantized(model_dir) # not yet supported\n",
    "model = AutoModelForCausalLM.from_pretrained(model_dir, torch_dtype=torch.bfloat16).to('cuda')\n",
    "tokenizer = AutoTokenizer.from_pretrained(model_dir)\n",
    "embeddings = HuggingFaceEmbeddings(model_name='BAAI/bge-large-en-v1.5')\n",
    "index = FAISS.load_local(f\"datasets/faiss_index.bin\", embeddings)\n",
    "retriever = index.as_retriever(search_type=\"similarity\", search_kwargs={'k': 4})"
   ]
  },
  {
   "cell_type": "code",
   "execution_count": 2,
   "metadata": {},
   "outputs": [
    {
     "name": "stderr",
     "output_type": "stream",
     "text": [
      "2024-02-21 07:39:13.266019: I tensorflow/core/util/port.cc:113] oneDNN custom operations are on. You may see slightly different numerical results due to floating-point round-off errors from different computation orders. To turn them off, set the environment variable `TF_ENABLE_ONEDNN_OPTS=0`.\n",
      "2024-02-21 07:39:13.300224: E external/local_xla/xla/stream_executor/cuda/cuda_dnn.cc:9261] Unable to register cuDNN factory: Attempting to register factory for plugin cuDNN when one has already been registered\n",
      "2024-02-21 07:39:13.300255: E external/local_xla/xla/stream_executor/cuda/cuda_fft.cc:607] Unable to register cuFFT factory: Attempting to register factory for plugin cuFFT when one has already been registered\n",
      "2024-02-21 07:39:13.301168: E external/local_xla/xla/stream_executor/cuda/cuda_blas.cc:1515] Unable to register cuBLAS factory: Attempting to register factory for plugin cuBLAS when one has already been registered\n",
      "2024-02-21 07:39:13.306827: I tensorflow/core/platform/cpu_feature_guard.cc:182] This TensorFlow binary is optimized to use available CPU instructions in performance-critical operations.\n",
      "To enable the following instructions: AVX2 AVX512F AVX512_VNNI FMA, in other operations, rebuild TensorFlow with the appropriate compiler flags.\n",
      "2024-02-21 07:39:18.839276: W tensorflow/compiler/tf2tensorrt/utils/py_utils.cc:38] TF-TRT Warning: Could not find TensorRT\n"
     ]
    }
   ],
   "source": [
    "from langchain.llms import HuggingFacePipeline\n",
    "from langchain.prompts import PromptTemplate\n",
    "from transformers import pipeline\n",
    "from langchain.chains import LLMChain\n",
    "from langchain.schema.runnable import RunnablePassthrough\n",
    "\n",
    "text_generation_pipeline = pipeline(\n",
    "    model=model,\n",
    "    tokenizer=tokenizer,\n",
    "    task=\"text-generation\",\n",
    "    temperature=0.7,\n",
    "    repetition_penalty=1.01,\n",
    "    return_full_text=True,\n",
    "    max_new_tokens=1000,\n",
    "    do_sample=True,\n",
    ")\n",
    "llm = HuggingFacePipeline(pipeline=text_generation_pipeline)\n",
    "prompt_template = \"\"\"You are cosmosage, an AI assistant designed to give detailed and factual answers to questions about cosmology. Provide some relevant context before answering the question. You may find the following additional content helpful.\n",
    "ADDITIONAL CONTENT: {context}\n",
    "USER: {question}\n",
    "ASSISTANT:\"\"\"\n",
    "prompt = PromptTemplate(input_variables=[\"context\", \"question\"], template=prompt_template)\n",
    "llm_chain = LLMChain(llm=llm, prompt=prompt)\n",
    "rag_chain = (\n",
    " {\"context\": retriever, \"question\": RunnablePassthrough()}\n",
    "    | llm_chain\n",
    ")"
   ]
  },
  {
   "cell_type": "code",
   "execution_count": 3,
   "metadata": {},
   "outputs": [],
   "source": [
    "question = \"What is the CLASS VPM made of?\""
   ]
  },
  {
   "cell_type": "code",
   "execution_count": 4,
   "metadata": {},
   "outputs": [
    {
     "name": "stderr",
     "output_type": "stream",
     "text": [
      "Setting `pad_token_id` to `eos_token_id`:2 for open-end generation.\n"
     ]
    },
    {
     "name": "stdout",
     "output_type": "stream",
     "text": [
      " The CLASS VPM (variable-delay polarization modulator) consists of a wire grid polarizer in front of a moving mirror, creating a phase delay between polarization states parallel and perpendicular to the direction of the wire grid. As the mirror moves, the phase delay between the two polarization states changes, modulating the Stokes U parameter.\n"
     ]
    }
   ],
   "source": [
    "result = llm_chain.invoke({\"context\":\"\", \"question\": question})\n",
    "print(result['text'])"
   ]
  },
  {
   "cell_type": "code",
   "execution_count": 5,
   "metadata": {},
   "outputs": [
    {
     "name": "stderr",
     "output_type": "stream",
     "text": [
      "Setting `pad_token_id` to `eos_token_id`:2 for open-end generation.\n"
     ]
    },
    {
     "name": "stdout",
     "output_type": "stream",
     "text": [
      " The CLASS VPM (Variable-Delay Polarization Modulator) consists of a wire array backed by a lightweight aluminum honeycomb mirror.\n"
     ]
    }
   ],
   "source": [
    "result_rag = rag_chain.invoke(question)\n",
    "print(result_rag['text'])"
   ]
  },
  {
   "cell_type": "code",
   "execution_count": 6,
   "metadata": {},
   "outputs": [
    {
     "data": {
      "text/plain": [
       "{'context': [Document(page_content='Each CLASS VPM, see Figure (b)b, consists of a wire array backed by a lightweight aluminum honeycomb mirror. During modulation, the wire array remains fixed and the mirror translates towards and away from the\\n\\nFigure 8: (a) Photograph of a secondary reflector. (b) The mechanical design for the VPM consists of a resonant four-bar linkage flexure attached to the mirror. A reaction-canceling mass will be moved in opposition to the mirror to reduce vibrations that could feed into detector timestreams.', metadata={'source': 'datasets/arxiv_mmd/1408.4788.mmd'}),\n",
       "  Document(page_content='The CLASS VPMs are 600 mm in diameter and are operated at ambient temperature. Because of the longer wavelengths (CLASS operates down to 38 GHz), a four-bar-linkage flexure was used in place of the single-material flexures. A voice coil is used for actuation and an optical encoder is used to measure the distance and close the feedback loop. To fully cover the \\\\(Q-U\\\\) space, CLASS employs instrument rotation around the boresight.', metadata={'source': 'datasets/arxiv_mmd/1706.02464.mmd'}),\n",
       "  Document(page_content='The CLASS front-end, fast modulation is provided by a Variable-Delay Polarization Modulator described in detail in Chuss et al. (2012), and Harrington et al. (2018). The VPM consists of a stationary grid of parallel wires that reflects light polarized along one axis and transmits light polarized along the other. The transmitted light reflects off a flat mirror behind the grid', metadata={'source': 'datasets/arxiv_mmd/1911.00391.mmd'}),\n",
       "  Document(page_content='The mirror is the largest source of mass and drag for the MTM system and therefore has important mechanical and dynamic effects in addition to its function as an optical element in the VPM. Optically, the mirror needs to be a flat mirror with low surface roughness, high reflectivity, and low emissivity. The CLASS VPM mirrors are constructed using aluminum sheet metal as the mirror face. Aluminum is chosen because of its manufacturability, durability, and high conductivity. We opted not to coat the mirror', metadata={'source': 'datasets/arxiv_mmd/1807.03807.mmd'})],\n",
       " 'question': 'What is the CLASS VPM made of?',\n",
       " 'text': ' The CLASS VPM (Variable-Delay Polarization Modulator) consists of a wire array backed by a lightweight aluminum honeycomb mirror.'}"
      ]
     },
     "execution_count": 6,
     "metadata": {},
     "output_type": "execute_result"
    }
   ],
   "source": [
    "result_rag"
   ]
  }
 ],
 "metadata": {
  "kernelspec": {
   "display_name": "base",
   "language": "python",
   "name": "python3"
  },
  "language_info": {
   "codemirror_mode": {
    "name": "ipython",
    "version": 3
   },
   "file_extension": ".py",
   "mimetype": "text/x-python",
   "name": "python",
   "nbconvert_exporter": "python",
   "pygments_lexer": "ipython3",
   "version": "3.10.0"
  }
 },
 "nbformat": 4,
 "nbformat_minor": 2
}
