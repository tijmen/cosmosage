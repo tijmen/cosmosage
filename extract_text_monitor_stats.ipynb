{
 "cells": [
  {
   "cell_type": "code",
   "execution_count": 1,
   "metadata": {},
   "outputs": [
    {
     "name": "stdout",
     "output_type": "stream",
     "text": [
      "pdf files: 594\n",
      "djvu files: 60\n",
      "txt files: 587\n",
      "New txt files since start: 35\n",
      "progress: 89.76%\n",
      "Estimated time to completion: 36460.55 seconds\n"
     ]
    }
   ],
   "source": [
    "import time\n",
    "import glob\n",
    "from IPython.display import clear_output\n",
    "\n",
    "# Initial counts\n",
    "pdf_files = glob.glob('**/*.pdf', recursive=True)\n",
    "djvu_files = glob.glob('**/*.djvu', recursive=True)\n",
    "initial_txt_files = len(glob.glob('**/*.txt', recursive=True))\n",
    "\n",
    "print('pdf files:', len(pdf_files))\n",
    "print('djvu files:', len(djvu_files))\n",
    "print('initial txt files:', initial_txt_files)\n",
    "\n",
    "start_time = time.time()  # Record the start time\n",
    "\n",
    "# Monitoring loop\n",
    "while True:\n",
    "    current_time = time.time()\n",
    "    elapsed_time = current_time - start_time\n",
    "\n",
    "    txt_files = glob.glob('**/*.txt', recursive=True)\n",
    "    current_txt_count = len(txt_files)\n",
    "    new_txt_files = current_txt_count - initial_txt_files\n",
    "    percent_progress = current_txt_count / (len(pdf_files) + len(djvu_files)) * 100\n",
    "\n",
    "    # Estimate time to completion\n",
    "    if new_txt_files > 0:\n",
    "        rate_of_addition = new_txt_files / elapsed_time\n",
    "        remaining_files = (len(pdf_files) + len(djvu_files)) - current_txt_count\n",
    "        estimated_time_to_completion = remaining_files / rate_of_addition\n",
    "    else:\n",
    "        estimated_time_to_completion = float('inf')  # Infinite time if no new files\n",
    "\n",
    "    # Clear the previous output and print the new values\n",
    "    clear_output(wait=True)\n",
    "    print('pdf files:', len(pdf_files))\n",
    "    print('djvu files:', len(djvu_files))\n",
    "    print('txt files:', current_txt_count)\n",
    "    print('New txt files since start:', new_txt_files)\n",
    "    print('progress: {:.2f}%'.format(percent_progress))\n",
    "    print('Estimated time to completion: {:.2f} seconds'.format(estimated_time_to_completion))\n",
    "\n",
    "    # Break the loop if progress reaches 100%\n",
    "    if percent_progress >= 100:\n",
    "        break\n",
    "\n",
    "    time.sleep(10)\n"
   ]
  },
  {
   "cell_type": "code",
   "execution_count": null,
   "metadata": {},
   "outputs": [],
   "source": []
  }
 ],
 "metadata": {
  "kernelspec": {
   "display_name": "Python 3 (ipykernel)",
   "language": "python",
   "name": "python3"
  },
  "language_info": {
   "codemirror_mode": {
    "name": "ipython",
    "version": 3
   },
   "file_extension": ".py",
   "mimetype": "text/x-python",
   "name": "python",
   "nbconvert_exporter": "python",
   "pygments_lexer": "ipython3",
   "version": "3.11.5"
  }
 },
 "nbformat": 4,
 "nbformat_minor": 2
}
